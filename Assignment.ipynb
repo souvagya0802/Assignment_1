{
  "nbformat": 4,
  "nbformat_minor": 0,
  "metadata": {
    "colab": {
      "provenance": []
    },
    "kernelspec": {
      "name": "python3",
      "display_name": "Python 3"
    },
    "language_info": {
      "name": "python"
    }
  },
  "cells": [
    {
      "cell_type": "code",
      "execution_count": null,
      "metadata": {
        "id": "3EDcrXEBq4k6"
      },
      "outputs": [],
      "source": [
        "# To design an algorithm for selecting the best team for the Champions League final between Manchester City and Inter Milan\n",
        "# We have to perrfform below process\n",
        "\n",
        "# At first we have to Gather Related Data\n",
        "# Assign Weights\n",
        "# Evaluate individuals performance\n",
        "# Analyze team strategies\n",
        "# Analyze past record\n",
        "# calculate overall Score\n",
        "# Select the best team"
      ]
    },
    {
      "cell_type": "code",
      "source": [
        "# Algorithm\n",
        "\n",
        "performance_weight = 1\n",
        "strategy_weight = 0.6\n",
        "past_record_weight = 0.2\n",
        "\n",
        "players_performance_score = {}\n",
        "\n",
        "for player in performance.data:# we should have a list of performance score \n",
        "   performance_score = ( # We have to take some properties that help to calculate the performance. Here i take Goal, assists, Pass Accuracy, Overall performance\n",
        "      goal_weight * goals + assists_weight * assists + pass_accuracy_weight * pass_accuracy + overall_p_weight * overall_p\n",
        "   )\n",
        "   players_performance_score[player.name] = performance_score\n",
        "\n",
        "\n",
        "team_strategy_score = {}\n",
        "\n",
        "for team in strategy.data: # In this case i take Counter Attack, Control, Overall Strategy\n",
        "  strategy_score =(\n",
        "      counter_attack_weight * counter_attack + controlling_weight * controlling + overall_s_weight + overall_s\n",
        "  ) \n",
        "  team_strategy_score[team.name] = strategy_score\n",
        "\n",
        "\n",
        "team_past_record = {}\n",
        "\n",
        "team_past_record['Maan City'] = maan_city_past_score\n",
        "team_past_record['Inter Milan'] = inter_milan_past_score\n",
        "\n",
        "\n",
        "\n",
        "team_score = {}\n",
        "\n",
        "for team in team_strategy_score:\n",
        "  overall_score = (\n",
        "      performance_weight * sum(players_performance_score.values()) + strategy_weight * team_strategy_score[team] + past_record_weight * team_past_record[team]\n",
        "  )\n",
        "  team_score[name] = overall_score\n",
        "\n",
        "best_team = max(team_score)\n",
        "\n",
        "print('The best team for the champions league final:', best_team)\n"
      ],
      "metadata": {
        "id": "yGsQsmpVtSD4"
      },
      "execution_count": null,
      "outputs": []
    }
  ]
}